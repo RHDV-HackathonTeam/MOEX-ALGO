{
  "cells": [
    {
      "cell_type": "code",
      "execution_count": null,
      "metadata": {
        "colab": {
          "base_uri": "https://localhost:8080/"
        },
        "id": "7LY5LY5-emdJ",
        "outputId": "48a4ae74-3c10-4719-f1c6-28ae30f91428"
      },
      "outputs": [
        {
          "output_type": "stream",
          "name": "stdout",
          "text": [
            "Looking in indexes: https://pypi.org/simple, https://us-python.pkg.dev/colab-wheels/public/simple/\n",
            "Collecting ccxt\n",
            "  Downloading ccxt-3.1.10-py2.py3-none-any.whl (3.9 MB)\n",
            "\u001b[2K     \u001b[90m━━━━━━━━━━━━━━━━━━━━━━━━━━━━━━━━━━━━━━━━\u001b[0m \u001b[32m3.9/3.9 MB\u001b[0m \u001b[31m21.9 MB/s\u001b[0m eta \u001b[36m0:00:00\u001b[0m\n",
            "\u001b[?25hRequirement already satisfied: setuptools>=60.9.0 in /usr/local/lib/python3.10/dist-packages (from ccxt) (67.7.2)\n",
            "Requirement already satisfied: certifi>=2018.1.18 in /usr/local/lib/python3.10/dist-packages (from ccxt) (2022.12.7)\n",
            "Requirement already satisfied: requests>=2.18.4 in /usr/local/lib/python3.10/dist-packages (from ccxt) (2.27.1)\n",
            "Requirement already satisfied: cryptography>=2.6.1 in /usr/local/lib/python3.10/dist-packages (from ccxt) (40.0.2)\n",
            "Collecting aiohttp>=3.8 (from ccxt)\n",
            "  Downloading aiohttp-3.8.4-cp310-cp310-manylinux_2_17_x86_64.manylinux2014_x86_64.whl (1.0 MB)\n",
            "\u001b[2K     \u001b[90m━━━━━━━━━━━━━━━━━━━━━━━━━━━━━━━━━━━━━━━━\u001b[0m \u001b[32m1.0/1.0 MB\u001b[0m \u001b[31m36.1 MB/s\u001b[0m eta \u001b[36m0:00:00\u001b[0m\n",
            "\u001b[?25hCollecting aiodns>=1.1.1 (from ccxt)\n",
            "  Downloading aiodns-3.0.0-py3-none-any.whl (5.0 kB)\n",
            "Collecting yarl>=1.7.2 (from ccxt)\n",
            "  Downloading yarl-1.9.2-cp310-cp310-manylinux_2_17_x86_64.manylinux2014_x86_64.whl (268 kB)\n",
            "\u001b[2K     \u001b[90m━━━━━━━━━━━━━━━━━━━━━━━━━━━━━━━━━━━━━━\u001b[0m \u001b[32m268.8/268.8 kB\u001b[0m \u001b[31m14.7 MB/s\u001b[0m eta \u001b[36m0:00:00\u001b[0m\n",
            "\u001b[?25hCollecting pycares>=4.0.0 (from aiodns>=1.1.1->ccxt)\n",
            "  Downloading pycares-4.3.0-cp310-cp310-manylinux_2_17_x86_64.manylinux2014_x86_64.whl (288 kB)\n",
            "\u001b[2K     \u001b[90m━━━━━━━━━━━━━━━━━━━━━━━━━━━━━━━━━━━━━━\u001b[0m \u001b[32m288.7/288.7 kB\u001b[0m \u001b[31m21.3 MB/s\u001b[0m eta \u001b[36m0:00:00\u001b[0m\n",
            "\u001b[?25hRequirement already satisfied: attrs>=17.3.0 in /usr/local/lib/python3.10/dist-packages (from aiohttp>=3.8->ccxt) (23.1.0)\n",
            "Requirement already satisfied: charset-normalizer<4.0,>=2.0 in /usr/local/lib/python3.10/dist-packages (from aiohttp>=3.8->ccxt) (2.0.12)\n",
            "Collecting multidict<7.0,>=4.5 (from aiohttp>=3.8->ccxt)\n",
            "  Downloading multidict-6.0.4-cp310-cp310-manylinux_2_17_x86_64.manylinux2014_x86_64.whl (114 kB)\n",
            "\u001b[2K     \u001b[90m━━━━━━━━━━━━━━━━━━━━━━━━━━━━━━━━━━━━━━━\u001b[0m \u001b[32m114.5/114.5 kB\u001b[0m \u001b[31m3.4 MB/s\u001b[0m eta \u001b[36m0:00:00\u001b[0m\n",
            "\u001b[?25hCollecting async-timeout<5.0,>=4.0.0a3 (from aiohttp>=3.8->ccxt)\n",
            "  Downloading async_timeout-4.0.2-py3-none-any.whl (5.8 kB)\n",
            "Collecting frozenlist>=1.1.1 (from aiohttp>=3.8->ccxt)\n",
            "  Downloading frozenlist-1.3.3-cp310-cp310-manylinux_2_5_x86_64.manylinux1_x86_64.manylinux_2_17_x86_64.manylinux2014_x86_64.whl (149 kB)\n",
            "\u001b[2K     \u001b[90m━━━━━━━━━━━━━━━━━━━━━━━━━━━━━━━━━━━━━━━\u001b[0m \u001b[32m149.6/149.6 kB\u001b[0m \u001b[31m7.2 MB/s\u001b[0m eta \u001b[36m0:00:00\u001b[0m\n",
            "\u001b[?25hCollecting aiosignal>=1.1.2 (from aiohttp>=3.8->ccxt)\n",
            "  Downloading aiosignal-1.3.1-py3-none-any.whl (7.6 kB)\n",
            "Requirement already satisfied: cffi>=1.12 in /usr/local/lib/python3.10/dist-packages (from cryptography>=2.6.1->ccxt) (1.15.1)\n",
            "Requirement already satisfied: urllib3<1.27,>=1.21.1 in /usr/local/lib/python3.10/dist-packages (from requests>=2.18.4->ccxt) (1.26.15)\n",
            "Requirement already satisfied: idna<4,>=2.5 in /usr/local/lib/python3.10/dist-packages (from requests>=2.18.4->ccxt) (3.4)\n",
            "Requirement already satisfied: pycparser in /usr/local/lib/python3.10/dist-packages (from cffi>=1.12->cryptography>=2.6.1->ccxt) (2.21)\n",
            "Installing collected packages: multidict, frozenlist, async-timeout, yarl, pycares, aiosignal, aiohttp, aiodns, ccxt\n",
            "Successfully installed aiodns-3.0.0 aiohttp-3.8.4 aiosignal-1.3.1 async-timeout-4.0.2 ccxt-3.1.10 frozenlist-1.3.3 multidict-6.0.4 pycares-4.3.0 yarl-1.9.2\n"
          ]
        }
      ],
      "source": [
        "!pip install ccxt\n",
        "import ccxt\n",
        "import pandas as pd\n",
        "import time\n",
        "from datetime import datetime\n",
        "import math"
      ]
    },
    {
      "cell_type": "code",
      "execution_count": null,
      "metadata": {
        "id": "MiLleanaeo5u"
      },
      "outputs": [],
      "source": [
        "exchange = ccxt.wazirx({\n",
        "    \"apiKey\": \"\",\n",
        "    \"secret\": \"\"\n",
        "})"
      ]
    },
    {
      "cell_type": "code",
      "execution_count": null,
      "metadata": {
        "id": "mr5t6BDSeq38",
        "colab": {
          "base_uri": "https://localhost:8080/"
        },
        "outputId": "41c3a660-9570-4f8a-e225-03caf7e5f4b7"
      },
      "outputs": [
        {
          "output_type": "stream",
          "name": "stdout",
          "text": [
            "No. of market symbols: 652\n",
            "Sample:['BTC/INR', 'XRP/INR', 'ETH/INR', 'TRX/INR', 'EOS/INR']\n"
          ]
        }
      ],
      "source": [
        "markets = exchange.fetchMarkets()\n",
        "market_symbols = [market['symbol'] for market in markets]\n",
        "print(f'No. of market symbols: {len(market_symbols)}')\n",
        "print(f'Sample:{market_symbols[0:5]}')"
      ]
    },
    {
      "cell_type": "code",
      "execution_count": null,
      "metadata": {
        "id": "fbEIpRfWesy-"
      },
      "outputs": [],
      "source": [
        "def get_crypto_combinations(market_symbols, base):\n",
        "    combinations = []\n",
        "    for sym1 in market_symbols:\n",
        "        \n",
        "        sym1_token1 = sym1.split('/')[0]\n",
        "        sym1_token2 = sym1.split('/')[1]\n",
        "        \n",
        "        if (sym1_token2 == base):\n",
        "            for sym2 in market_symbols:\n",
        "                sym2_token1 = sym2.split('/')[0]\n",
        "                sym2_token2 = sym2.split('/')[1]\n",
        "                if (sym1_token1 == sym2_token2):\n",
        "                    for sym3 in market_symbols:\n",
        "                        sym3_token1 = sym3.split('/')[0]\n",
        "                        sym3_token2 = sym3.split('/')[1]\n",
        "                        if((sym2_token1 == sym3_token1) and (sym3_token2 == sym1_token2)):\n",
        "                            combination = {\n",
        "                                'base':sym1_token2,\n",
        "                                'intermediate':sym1_token1,\n",
        "                                'ticker':sym2_token1,\n",
        "                            }\n",
        "                            combinations.append(combination)\n",
        "                \n",
        "\n",
        "    return combinations\n",
        "        \n",
        "wx_combinations_usdt = get_crypto_combinations(market_symbols,'USDT')"
      ]
    },
    {
      "cell_type": "code",
      "execution_count": null,
      "metadata": {
        "id": "VjzAt0NneurP",
        "colab": {
          "base_uri": "https://localhost:8080/",
          "height": 441
        },
        "outputId": "984ffcc7-a752-4436-e435-d58f8557b93e"
      },
      "outputs": [
        {
          "output_type": "stream",
          "name": "stdout",
          "text": [
            "No. of crypto combinations: 63\n"
          ]
        },
        {
          "output_type": "execute_result",
          "data": {
            "text/plain": [
              "    base intermediate ticker\n",
              "0   USDT          BTC    XRP\n",
              "1   USDT          BTC    TRX\n",
              "2   USDT          BTC    ETH\n",
              "3   USDT          BTC  NCASH\n",
              "4   USDT          BTC    ZIL\n",
              "..   ...          ...    ...\n",
              "58  USDT          WRX   DOCK\n",
              "59  USDT          WRX   RUNE\n",
              "60  USDT          WRX    CHR\n",
              "61  USDT          WRX   YFII\n",
              "62  USDT          WRX   LUNC\n",
              "\n",
              "[63 rows x 3 columns]"
            ],
            "text/html": [
              "\n",
              "  <div id=\"df-12489e70-bc8b-494b-8189-060bc10579f5\">\n",
              "    <div class=\"colab-df-container\">\n",
              "      <div>\n",
              "<style scoped>\n",
              "    .dataframe tbody tr th:only-of-type {\n",
              "        vertical-align: middle;\n",
              "    }\n",
              "\n",
              "    .dataframe tbody tr th {\n",
              "        vertical-align: top;\n",
              "    }\n",
              "\n",
              "    .dataframe thead th {\n",
              "        text-align: right;\n",
              "    }\n",
              "</style>\n",
              "<table border=\"1\" class=\"dataframe\">\n",
              "  <thead>\n",
              "    <tr style=\"text-align: right;\">\n",
              "      <th></th>\n",
              "      <th>base</th>\n",
              "      <th>intermediate</th>\n",
              "      <th>ticker</th>\n",
              "    </tr>\n",
              "  </thead>\n",
              "  <tbody>\n",
              "    <tr>\n",
              "      <th>0</th>\n",
              "      <td>USDT</td>\n",
              "      <td>BTC</td>\n",
              "      <td>XRP</td>\n",
              "    </tr>\n",
              "    <tr>\n",
              "      <th>1</th>\n",
              "      <td>USDT</td>\n",
              "      <td>BTC</td>\n",
              "      <td>TRX</td>\n",
              "    </tr>\n",
              "    <tr>\n",
              "      <th>2</th>\n",
              "      <td>USDT</td>\n",
              "      <td>BTC</td>\n",
              "      <td>ETH</td>\n",
              "    </tr>\n",
              "    <tr>\n",
              "      <th>3</th>\n",
              "      <td>USDT</td>\n",
              "      <td>BTC</td>\n",
              "      <td>NCASH</td>\n",
              "    </tr>\n",
              "    <tr>\n",
              "      <th>4</th>\n",
              "      <td>USDT</td>\n",
              "      <td>BTC</td>\n",
              "      <td>ZIL</td>\n",
              "    </tr>\n",
              "    <tr>\n",
              "      <th>...</th>\n",
              "      <td>...</td>\n",
              "      <td>...</td>\n",
              "      <td>...</td>\n",
              "    </tr>\n",
              "    <tr>\n",
              "      <th>58</th>\n",
              "      <td>USDT</td>\n",
              "      <td>WRX</td>\n",
              "      <td>DOCK</td>\n",
              "    </tr>\n",
              "    <tr>\n",
              "      <th>59</th>\n",
              "      <td>USDT</td>\n",
              "      <td>WRX</td>\n",
              "      <td>RUNE</td>\n",
              "    </tr>\n",
              "    <tr>\n",
              "      <th>60</th>\n",
              "      <td>USDT</td>\n",
              "      <td>WRX</td>\n",
              "      <td>CHR</td>\n",
              "    </tr>\n",
              "    <tr>\n",
              "      <th>61</th>\n",
              "      <td>USDT</td>\n",
              "      <td>WRX</td>\n",
              "      <td>YFII</td>\n",
              "    </tr>\n",
              "    <tr>\n",
              "      <th>62</th>\n",
              "      <td>USDT</td>\n",
              "      <td>WRX</td>\n",
              "      <td>LUNC</td>\n",
              "    </tr>\n",
              "  </tbody>\n",
              "</table>\n",
              "<p>63 rows × 3 columns</p>\n",
              "</div>\n",
              "      <button class=\"colab-df-convert\" onclick=\"convertToInteractive('df-12489e70-bc8b-494b-8189-060bc10579f5')\"\n",
              "              title=\"Convert this dataframe to an interactive table.\"\n",
              "              style=\"display:none;\">\n",
              "        \n",
              "  <svg xmlns=\"http://www.w3.org/2000/svg\" height=\"24px\"viewBox=\"0 0 24 24\"\n",
              "       width=\"24px\">\n",
              "    <path d=\"M0 0h24v24H0V0z\" fill=\"none\"/>\n",
              "    <path d=\"M18.56 5.44l.94 2.06.94-2.06 2.06-.94-2.06-.94-.94-2.06-.94 2.06-2.06.94zm-11 1L8.5 8.5l.94-2.06 2.06-.94-2.06-.94L8.5 2.5l-.94 2.06-2.06.94zm10 10l.94 2.06.94-2.06 2.06-.94-2.06-.94-.94-2.06-.94 2.06-2.06.94z\"/><path d=\"M17.41 7.96l-1.37-1.37c-.4-.4-.92-.59-1.43-.59-.52 0-1.04.2-1.43.59L10.3 9.45l-7.72 7.72c-.78.78-.78 2.05 0 2.83L4 21.41c.39.39.9.59 1.41.59.51 0 1.02-.2 1.41-.59l7.78-7.78 2.81-2.81c.8-.78.8-2.07 0-2.86zM5.41 20L4 18.59l7.72-7.72 1.47 1.35L5.41 20z\"/>\n",
              "  </svg>\n",
              "      </button>\n",
              "      \n",
              "  <style>\n",
              "    .colab-df-container {\n",
              "      display:flex;\n",
              "      flex-wrap:wrap;\n",
              "      gap: 12px;\n",
              "    }\n",
              "\n",
              "    .colab-df-convert {\n",
              "      background-color: #E8F0FE;\n",
              "      border: none;\n",
              "      border-radius: 50%;\n",
              "      cursor: pointer;\n",
              "      display: none;\n",
              "      fill: #1967D2;\n",
              "      height: 32px;\n",
              "      padding: 0 0 0 0;\n",
              "      width: 32px;\n",
              "    }\n",
              "\n",
              "    .colab-df-convert:hover {\n",
              "      background-color: #E2EBFA;\n",
              "      box-shadow: 0px 1px 2px rgba(60, 64, 67, 0.3), 0px 1px 3px 1px rgba(60, 64, 67, 0.15);\n",
              "      fill: #174EA6;\n",
              "    }\n",
              "\n",
              "    [theme=dark] .colab-df-convert {\n",
              "      background-color: #3B4455;\n",
              "      fill: #D2E3FC;\n",
              "    }\n",
              "\n",
              "    [theme=dark] .colab-df-convert:hover {\n",
              "      background-color: #434B5C;\n",
              "      box-shadow: 0px 1px 3px 1px rgba(0, 0, 0, 0.15);\n",
              "      filter: drop-shadow(0px 1px 2px rgba(0, 0, 0, 0.3));\n",
              "      fill: #FFFFFF;\n",
              "    }\n",
              "  </style>\n",
              "\n",
              "      <script>\n",
              "        const buttonEl =\n",
              "          document.querySelector('#df-12489e70-bc8b-494b-8189-060bc10579f5 button.colab-df-convert');\n",
              "        buttonEl.style.display =\n",
              "          google.colab.kernel.accessAllowed ? 'block' : 'none';\n",
              "\n",
              "        async function convertToInteractive(key) {\n",
              "          const element = document.querySelector('#df-12489e70-bc8b-494b-8189-060bc10579f5');\n",
              "          const dataTable =\n",
              "            await google.colab.kernel.invokeFunction('convertToInteractive',\n",
              "                                                     [key], {});\n",
              "          if (!dataTable) return;\n",
              "\n",
              "          const docLinkHtml = 'Like what you see? Visit the ' +\n",
              "            '<a target=\"_blank\" href=https://colab.research.google.com/notebooks/data_table.ipynb>data table notebook</a>'\n",
              "            + ' to learn more about interactive tables.';\n",
              "          element.innerHTML = '';\n",
              "          dataTable['output_type'] = 'display_data';\n",
              "          await google.colab.output.renderOutput(dataTable, element);\n",
              "          const docLink = document.createElement('div');\n",
              "          docLink.innerHTML = docLinkHtml;\n",
              "          element.appendChild(docLink);\n",
              "        }\n",
              "      </script>\n",
              "    </div>\n",
              "  </div>\n",
              "  "
            ]
          },
          "metadata": {},
          "execution_count": 5
        }
      ],
      "source": [
        "print(f'No. of crypto combinations: {len(wx_combinations_usdt)}')\n",
        "\n",
        "cominations_df = pd.DataFrame(wx_combinations_usdt)\n",
        "cominations_df"
      ]
    },
    {
      "cell_type": "code",
      "execution_count": null,
      "metadata": {
        "id": "o4re_924ewmJ"
      },
      "outputs": [],
      "source": [
        "def fetch_current_ticker_price(ticker):\n",
        "    current_ticker_details = exchange.fetch_ticker(ticker)\n",
        "    ticker_price = current_ticker_details['close'] if current_ticker_details is not None else None\n",
        "    return ticker_price"
      ]
    },
    {
      "cell_type": "code",
      "execution_count": null,
      "metadata": {
        "id": "XN5v97x_eyOd"
      },
      "outputs": [],
      "source": [
        "def check_if_float_zero(value):\n",
        "    return math.isclose(value, 0.0, abs_tol=1e-3)\n"
      ]
    },
    {
      "cell_type": "code",
      "execution_count": null,
      "metadata": {
        "id": "_zRpVoJme1K_"
      },
      "outputs": [],
      "source": [
        "def check_buy_buy_sell(scrip1, scrip2, scrip3,initial_investment):\n",
        "    \n",
        "    ## SCRIP1\n",
        "    investment_amount1 = initial_investment\n",
        "    current_price1 = fetch_current_ticker_price(scrip1)\n",
        "    final_price = 0\n",
        "    scrip_prices = {}\n",
        "    \n",
        "    if current_price1 is not None and not check_if_float_zero(current_price1):\n",
        "        buy_quantity1 = round(investment_amount1 / current_price1, 8)\n",
        "        \n",
        "        # TRY WITHOUT SLEEP IF THE EXCHANGE DOES NOT THROW RATE LIMIT EXCEPTIONS\n",
        "        time.sleep(1)\n",
        "        ## SCRIP2\n",
        "        investment_amount2 = buy_quantity1     \n",
        "        current_price2 = fetch_current_ticker_price(scrip2)\n",
        "        if current_price2 is not None and not check_if_float_zero(current_price2):\n",
        "            buy_quantity2 = round(investment_amount2 / current_price2, 8)\n",
        "            \n",
        "            # TRY WITHOUT SLEEP IF THE EXCHANGE DOES NOT THROW RATE LIMIT EXCEPTIONS\n",
        "            time.sleep(1)\n",
        "            ## SCRIP3\n",
        "            investment_amount3 = buy_quantity2     \n",
        "            current_price3 = fetch_current_ticker_price(scrip3)\n",
        "            if current_price3 is not None and not check_if_float_zero(current_price3):\n",
        "                sell_quantity3 = buy_quantity2\n",
        "                final_price = round(sell_quantity3 * current_price3,3)\n",
        "                scrip_prices = {scrip1 : current_price1, scrip2 : current_price2, scrip3 : current_price3}\n",
        "                \n",
        "    return final_price, scrip_prices"
      ]
    },
    {
      "cell_type": "code",
      "execution_count": null,
      "metadata": {
        "id": "HTKoqNIze38b"
      },
      "outputs": [],
      "source": [
        "def check_buy_sell_sell(scrip1, scrip2, scrip3,initial_investment):\n",
        "    ## SCRIP1\n",
        "    investment_amount1 = initial_investment\n",
        "    current_price1 = fetch_current_ticker_price(scrip1)\n",
        "    final_price = 0\n",
        "    scrip_prices = {}\n",
        "    if current_price1 is not None and not check_if_float_zero(current_price1):\n",
        "        buy_quantity1 = round(investment_amount1 / current_price1, 8)\n",
        "        \n",
        "        # TRY WITHOUT SLEEP IF THE EXCHANGE DOES NOT THROW RATE LIMIT EXCEPTIONS\n",
        "        time.sleep(1)\n",
        "        ## SCRIP2\n",
        "        investment_amount2 = buy_quantity1     \n",
        "        current_price2 = fetch_current_ticker_price(scrip2)\n",
        "        if current_price2 is not None and not check_if_float_zero(current_price2):\n",
        "            sell_quantity2 = buy_quantity1\n",
        "            sell_price2 = round(sell_quantity2 * current_price2,8)\n",
        "            \n",
        "            # TRY WITHOUT SLEEP IF THE EXCHANGE DOES NOT THROW RATE LIMIT EXCEPTIONS\n",
        "            # time.sleep(1)\n",
        "            ## SCRIP1\n",
        "            investment_amount3 = sell_price2     \n",
        "            current_price3 = fetch_current_ticker_price(scrip3)\n",
        "            if current_price3 is not None and not check_if_float_zero(current_price3):\n",
        "                sell_quantity3 = sell_price2\n",
        "                final_price = round(sell_quantity3 * current_price3,3)\n",
        "                scrip_prices = {scrip1 : current_price1, scrip2 : current_price2, scrip3 : current_price3}\n",
        "    return final_price,scrip_prices"
      ]
    },
    {
      "cell_type": "code",
      "execution_count": null,
      "metadata": {
        "id": "TrocGDQGe569"
      },
      "outputs": [],
      "source": [
        "def check_profit_loss(total_price_after_sell,initial_investment,transaction_brokerage, min_profit):\n",
        "    apprx_brokerage = transaction_brokerage * initial_investment/100 * 3\n",
        "    min_profitable_price = initial_investment + apprx_brokerage + min_profit\n",
        "    profit_loss = round(total_price_after_sell - min_profitable_price,3)\n",
        "    return profit_loss"
      ]
    },
    {
      "cell_type": "code",
      "execution_count": null,
      "metadata": {
        "id": "zKmofufHe8Xz"
      },
      "outputs": [],
      "source": [
        "def place_buy_order(scrip, quantity, limit):\n",
        "    order = exchange.create_limit_buy_order(scrip, quantity, limit)\n",
        "    return order\n",
        "\n",
        "def place_sell_order(scrip, quantity, limit):\n",
        "    order = exchange.create_limit_sell_order(scrip, quantity, limit)\n",
        "    return order \n",
        "\n",
        "def place_trade_orders(type, scrip1, scrip2, scrip3, initial_amount, scrip_prices):\n",
        "    final_amount = 0.0\n",
        "    if type == 'BUY_BUY_SELL':\n",
        "        s1_quantity = initial_amount/scrip_prices[scrip1]\n",
        "        place_buy_order(scrip1, s1_quantity, scrip_prices[scrip1])\n",
        "        \n",
        "        s2_quantity = s1_quantity/scrip_prices[scrip2]\n",
        "        place_buy_order(scrip2, s2_quantity, scrip_prices[scrip2])\n",
        "        \n",
        "        s3_quantity = s2_quantity\n",
        "        place_sell_order(scrip3, s3_quantity, scrip_prices[scrip3])\n",
        "        \n",
        "    elif type == 'BUY_SELL_SELL':\n",
        "        s1_quantity = initial_amount/scrip_prices[scrip1]\n",
        "        place_buy_order(scrip1, s1_quantity, scrip_prices[scrip1])\n",
        "        \n",
        "        s2_quantity = s1_quantity\n",
        "        place_sell_order(scrip2, s2_quantity, scrip_prices[scrip2])\n",
        "        \n",
        "        s3_quantity = s2_quantity * scrip_prices[scrip2]\n",
        "        place_sell_order(scrip3, s3_quantity, scrip_prices[scrip3])\n",
        "        \n",
        "        \n",
        "    return final_amount"
      ]
    },
    {
      "cell_type": "code",
      "execution_count": null,
      "metadata": {
        "id": "jaIHRmANe-6U"
      },
      "outputs": [],
      "source": [
        "def perform_triangular_arbitrage(scrip1, scrip2, scrip3, arbitrage_type,initial_investment, \n",
        "                               transaction_brokerage, min_profit):\n",
        "    final_price = 0.0\n",
        "    if(arbitrage_type == 'BUY_BUY_SELL'):\n",
        "        # Check this combination for triangular arbitrage: scrip1 - BUY, scrip2 - BUY, scrip3 - SELL\n",
        "        final_price, scrip_prices = check_buy_buy_sell(scrip1, scrip2, scrip3,initial_investment)\n",
        "        \n",
        "    elif(arbitrage_type == 'BUY_SELL_SELL'):\n",
        "        # Check this combination for triangular arbitrage: scrip1 - BUY, scrip2 - SELL, scrip3 - SELL\n",
        "        final_price, scrip_prices = check_buy_sell_sell(scrip1, scrip2, scrip3,initial_investment)\n",
        "        \n",
        "    profit_loss = check_profit_loss(final_price,initial_investment, transaction_brokerage, min_profit)\n",
        "\n",
        "    if profit_loss>0:\n",
        "        print(f\"PROFIT-{datetime.now().strftime('%H:%M:%S')}:\"\\\n",
        "              f\"{arbitrage_type}, {scrip1},{scrip2},{scrip3}, Profit/Loss: {round(final_price-initial_investment,3)} \")\n",
        "        \n",
        "        # UNCOMMENT THIS LINE TO PLACE THE ORDERS\n",
        "        #place_trade_orders(arbitrage_type, scrip1, scrip2, scrip3, initial_investment, scrip_prices)"
      ]
    },
    {
      "cell_type": "code",
      "execution_count": null,
      "metadata": {
        "id": "C6V9XyfffA-G",
        "colab": {
          "base_uri": "https://localhost:8080/",
          "height": 238
        },
        "outputId": "97edad5c-d6c9-4416-b3bb-2d2332a247fd"
      },
      "outputs": [
        {
          "output_type": "stream",
          "name": "stdout",
          "text": [
            "PROFIT-12:44:31:BUY_SELL_SELL, LTC/USDT,LTC/BTC,BTC/USDT, Profit/Loss: 1.643 \n"
          ]
        },
        {
          "output_type": "error",
          "ename": "KeyboardInterrupt",
          "evalue": "ignored",
          "traceback": [
            "\u001b[0;31m---------------------------------------------------------------------------\u001b[0m",
            "\u001b[0;31mKeyboardInterrupt\u001b[0m                         Traceback (most recent call last)",
            "\u001b[0;32m<ipython-input-16-ffba90967570>\u001b[0m in \u001b[0;36m<cell line: 7>\u001b[0;34m()\u001b[0m\n\u001b[1;32m     24\u001b[0m     perform_triangular_arbitrage(s3,s2,s1,'BUY_SELL_SELL',INVESTMENT_AMOUNT_DOLLARS,\n\u001b[1;32m     25\u001b[0m                               BROKERAGE_PER_TRANSACTION_PERCENT, MIN_PROFIT_DOLLARS)\n\u001b[0;32m---> 26\u001b[0;31m     \u001b[0mtime\u001b[0m\u001b[0;34m.\u001b[0m\u001b[0msleep\u001b[0m\u001b[0;34m(\u001b[0m\u001b[0;36m5\u001b[0m\u001b[0;34m)\u001b[0m\u001b[0;34m\u001b[0m\u001b[0;34m\u001b[0m\u001b[0m\n\u001b[0m\u001b[1;32m     27\u001b[0m \u001b[0;34m\u001b[0m\u001b[0m\n",
            "\u001b[0;31mKeyboardInterrupt\u001b[0m: "
          ]
        }
      ],
      "source": [
        "INVESTMENT_AMOUNT_DOLLARS = 10\n",
        "MIN_PROFIT_DOLLARS = 0.5\n",
        "BROKERAGE_PER_TRANSACTION_PERCENT = 0.2\n",
        "\n",
        "# UNCOMMENT THE WHILE LOOP TO RUN THIS LOOP CONTINUOUSLY\n",
        "#while(1):\n",
        "for combination in wx_combinations_usdt:\n",
        "\n",
        "    base = combination['base']\n",
        "    intermediate = combination['intermediate']\n",
        "    ticker = combination['ticker']\n",
        "\n",
        "\n",
        "    s1 = f'{intermediate}/{base}'    # Eg: BTC/USDT\n",
        "    s2 = f'{ticker}/{intermediate}'  # Eg: ETH/BTC\n",
        "    s3 = f'{ticker}/{base}'          # Eg: ETH/USDT \n",
        "\n",
        "    # Check triangular arbitrage for buy-buy-sell \n",
        "    perform_triangular_arbitrage(s1,s2,s3,'BUY_BUY_SELL',INVESTMENT_AMOUNT_DOLLARS,\n",
        "                              BROKERAGE_PER_TRANSACTION_PERCENT, MIN_PROFIT_DOLLARS)\n",
        "    # Sleep to avoid rate limit on api calls (RateLimitExceeded exception)\n",
        "    time.sleep(5) \n",
        "    # Check triangular arbitrage for buy-sell-sell \n",
        "    perform_triangular_arbitrage(s3,s2,s1,'BUY_SELL_SELL',INVESTMENT_AMOUNT_DOLLARS,\n",
        "                              BROKERAGE_PER_TRANSACTION_PERCENT, MIN_PROFIT_DOLLARS)\n",
        "    time.sleep(5)    \n",
        "         "
      ]
    }
  ],
  "metadata": {
    "colab": {
      "provenance": []
    },
    "kernelspec": {
      "display_name": "Python 3",
      "name": "python3"
    },
    "language_info": {
      "name": "python"
    }
  },
  "nbformat": 4,
  "nbformat_minor": 0
}
